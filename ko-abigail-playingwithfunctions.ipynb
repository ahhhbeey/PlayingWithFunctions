{
 "cells": [
  {
   "cell_type": "code",
   "execution_count": null,
   "metadata": {},
   "outputs": [],
   "source": [
    "185602\n",
    "Ko\n",
    "3 BS ITE"
   ]
  },
  {
   "cell_type": "markdown",
   "metadata": {},
   "source": [
    "## Problem 1: Circumference to Area"
   ]
  },
  {
   "cell_type": "code",
   "execution_count": 7,
   "metadata": {},
   "outputs": [
    {
     "name": "stdout",
     "output_type": "stream",
     "text": [
      "Input circumference: 80\n"
     ]
    },
    {
     "data": {
      "text/plain": [
       "509.2946269416858"
      ]
     },
     "execution_count": 7,
     "metadata": {},
     "output_type": "execute_result"
    }
   ],
   "source": [
    "cir = float(input('Input circumference: '))\n",
    "\n",
    "def circumference_to_area(cir):\n",
    "    radius = cir / (2*3.1416)\n",
    "    area = 3.1416*(radius**2)\n",
    "    return area\n",
    "\n",
    "circumference_to_area(cir)"
   ]
  },
  {
   "cell_type": "markdown",
   "metadata": {},
   "source": [
    "## Problem 2: Reverse String"
   ]
  },
  {
   "cell_type": "code",
   "execution_count": 8,
   "metadata": {},
   "outputs": [
    {
     "name": "stdout",
     "output_type": "stream",
     "text": [
      "Reverse what word? hello\n"
     ]
    },
    {
     "data": {
      "text/plain": [
       "'olleh'"
      ]
     },
     "execution_count": 8,
     "metadata": {},
     "output_type": "execute_result"
    }
   ],
   "source": [
    "word = input('Reverse what word? ')\n",
    "\n",
    "def reverse_word(word):\n",
    "    wordlength = len(word)\n",
    "    slicingword = word[wordlength::-1]\n",
    "    return slicingword\n",
    "\n",
    "reverse_word(word)"
   ]
  },
  {
   "cell_type": "markdown",
   "metadata": {},
   "source": [
    "## Problem 3: Sum of Positive Integers"
   ]
  },
  {
   "cell_type": "code",
   "execution_count": 14,
   "metadata": {},
   "outputs": [
    {
     "name": "stdout",
     "output_type": "stream",
     "text": [
      "What number? 5\n",
      "The sum is 15\n"
     ]
    }
   ],
   "source": [
    "number = int(input('What number? '))\n",
    "\n",
    "def sum_of_integers(number):\n",
    "    total = 0\n",
    "    while number > 0 :\n",
    "        total = total + number\n",
    "        number = number - 1\n",
    "    return total\n",
    "\n",
    "print(\"The sum is\", sum_of_integers(number))"
   ]
  },
  {
   "cell_type": "markdown",
   "metadata": {},
   "source": [
    "## Problem 4: Sum - Square"
   ]
  },
  {
   "cell_type": "code",
   "execution_count": 6,
   "metadata": {},
   "outputs": [
    {
     "name": "stdout",
     "output_type": "stream",
     "text": [
      "25164150\n"
     ]
    }
   ],
   "source": [
    "square = 0\n",
    "sum = 0\n",
    "\n",
    "for num in range(1, 101) :\n",
    "    square = square + num**2\n",
    "    sum = sum + num\n",
    "\n",
    "sum = sum**2\n",
    "\n",
    "print(sum - square)"
   ]
  },
  {
   "cell_type": "markdown",
   "metadata": {},
   "source": [
    "## Problem 5: Change Coins"
   ]
  },
  {
   "cell_type": "code",
   "execution_count": 5,
   "metadata": {},
   "outputs": [
    {
     "name": "stdout",
     "output_type": "stream",
     "text": [
      "How much?69\n",
      "0\n",
      "2\n",
      "1\n",
      "1\n",
      "4\n"
     ]
    }
   ],
   "source": [
    "def changing_system():\n",
    "    change = int(input('How much? '))\n",
    "    peso = 0\n",
    "    tf_cent = 0\n",
    "    t_cent = 0\n",
    "    f_cent = 0\n",
    "    o_cent = 0\n",
    "    while change >= 100 :\n",
    "        change = change - 100\n",
    "        peso = peso + 1\n",
    "\n",
    "    while change >= 25 and change <= 99 :\n",
    "        change = change - 25\n",
    "        tf_cent = tf_cent + 1\n",
    "\n",
    "    while change >= 10 and change <= 24 :\n",
    "        change = change - 10\n",
    "        t_cent = t_cent + 1\n",
    "\n",
    "    while change >= 5 and change <= 9 :\n",
    "        change = change - 5\n",
    "        f_cent = f_cent + 1\n",
    "\n",
    "    while change >= 1 and change <= 4 :\n",
    "        change = change - 1\n",
    "        o_cent = o_cent + 1\n",
    "\n",
    "    print(peso)\n",
    "    print(tf_cent)\n",
    "    print(t_cent)\n",
    "    print(f_cent)\n",
    "    print(o_cent)\n",
    "\n",
    "changing_system()"
   ]
  }
 ],
 "metadata": {
  "kernelspec": {
   "display_name": "Python 3",
   "language": "python",
   "name": "python3"
  },
  "language_info": {
   "codemirror_mode": {
    "name": "ipython",
    "version": 3
   },
   "file_extension": ".py",
   "mimetype": "text/x-python",
   "name": "python",
   "nbconvert_exporter": "python",
   "pygments_lexer": "ipython3",
   "version": "3.8.3"
  }
 },
 "nbformat": 4,
 "nbformat_minor": 4
}
